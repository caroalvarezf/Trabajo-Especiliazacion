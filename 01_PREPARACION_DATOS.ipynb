{
  "nbformat": 4,
  "nbformat_minor": 0,
  "metadata": {
    "colab": {
      "name": "01-PREPARACION_DATOS.ipynb",
      "provenance": [],
      "collapsed_sections": [],
      "include_colab_link": true
    },
    "kernelspec": {
      "name": "python3",
      "display_name": "Python 3"
    }
  },
  "cells": [
    {
      "cell_type": "markdown",
      "metadata": {
        "id": "view-in-github",
        "colab_type": "text"
      },
      "source": [
        "<a href=\"https://colab.research.google.com/github/caroalvarezf/Trabajo-Especiliazacion/blob/master/01_PREPARACION_DATOS.ipynb\" target=\"_parent\"><img src=\"https://colab.research.google.com/assets/colab-badge.svg\" alt=\"Open In Colab\"/></a>"
      ]
    },
    {
      "cell_type": "code",
      "metadata": {
        "id": "eY7tjv6BYXLP",
        "outputId": "34e2d5cf-bc2b-4f63-fcfd-664641eb32b3",
        "colab": {
          "base_uri": "https://localhost:8080/"
        }
      },
      "source": [
        "!wget --no-cache -O init.py -q https://raw.githubusercontent.com/caroalvarezf/Trabajo-Especiliazacion/master/init.py\n",
        "import init; init.init(force_download=False) "
      ],
      "execution_count": 2,
      "outputs": [
        {
          "output_type": "stream",
          "text": [
            "replicating local resources\n"
          ],
          "name": "stdout"
        }
      ]
    },
    {
      "cell_type": "code",
      "metadata": {
        "id": "tqx5bZ3dcn7O"
      },
      "source": [
        "import pandas as pd\n",
        "datos=pd.read_csv(\"local/DATA_DEMO.csv\", sep=\";\")"
      ],
      "execution_count": 3,
      "outputs": []
    },
    {
      "cell_type": "code",
      "metadata": {
        "id": "Jhl_6Sj8sj0t",
        "outputId": "7219fade-003f-4b8e-e372-da7e1107d780",
        "colab": {
          "base_uri": "https://localhost:8080/",
          "height": 202
        }
      },
      "source": [
        "datos.head()"
      ],
      "execution_count": 4,
      "outputs": [
        {
          "output_type": "execute_result",
          "data": {
            "text/html": [
              "<div>\n",
              "<style scoped>\n",
              "    .dataframe tbody tr th:only-of-type {\n",
              "        vertical-align: middle;\n",
              "    }\n",
              "\n",
              "    .dataframe tbody tr th {\n",
              "        vertical-align: top;\n",
              "    }\n",
              "\n",
              "    .dataframe thead th {\n",
              "        text-align: right;\n",
              "    }\n",
              "</style>\n",
              "<table border=\"1\" class=\"dataframe\">\n",
              "  <thead>\n",
              "    <tr style=\"text-align: right;\">\n",
              "      <th></th>\n",
              "      <th>CODIGO_CLIENTE</th>\n",
              "      <th>FECHA_CONTACTO</th>\n",
              "      <th>CANAL</th>\n",
              "      <th>COD_CANAL</th>\n",
              "      <th>COD_SERVICIO</th>\n",
              "      <th>sexo</th>\n",
              "      <th>Fecha de nacimiento</th>\n",
              "      <th>segmento</th>\n",
              "      <th>producto1</th>\n",
              "      <th>producto2</th>\n",
              "      <th>producto3</th>\n",
              "    </tr>\n",
              "  </thead>\n",
              "  <tbody>\n",
              "    <tr>\n",
              "      <th>0</th>\n",
              "      <td>1</td>\n",
              "      <td>19/10/2019</td>\n",
              "      <td>OFICINAS</td>\n",
              "      <td>1</td>\n",
              "      <td>5</td>\n",
              "      <td>m</td>\n",
              "      <td>8/01/1974</td>\n",
              "      <td>rentas masivas</td>\n",
              "      <td>si</td>\n",
              "      <td>si</td>\n",
              "      <td>no</td>\n",
              "    </tr>\n",
              "    <tr>\n",
              "      <th>1</th>\n",
              "      <td>1</td>\n",
              "      <td>3/06/2020</td>\n",
              "      <td>OFICINAS</td>\n",
              "      <td>1</td>\n",
              "      <td>5</td>\n",
              "      <td>m</td>\n",
              "      <td>8/01/1974</td>\n",
              "      <td>rentas masivas</td>\n",
              "      <td>si</td>\n",
              "      <td>si</td>\n",
              "      <td>no</td>\n",
              "    </tr>\n",
              "    <tr>\n",
              "      <th>2</th>\n",
              "      <td>1</td>\n",
              "      <td>2/04/2019</td>\n",
              "      <td>OFICINAS</td>\n",
              "      <td>1</td>\n",
              "      <td>5</td>\n",
              "      <td>m</td>\n",
              "      <td>8/01/1974</td>\n",
              "      <td>rentas masivas</td>\n",
              "      <td>si</td>\n",
              "      <td>si</td>\n",
              "      <td>no</td>\n",
              "    </tr>\n",
              "    <tr>\n",
              "      <th>3</th>\n",
              "      <td>1</td>\n",
              "      <td>24/04/2019</td>\n",
              "      <td>OFICINAS</td>\n",
              "      <td>1</td>\n",
              "      <td>5</td>\n",
              "      <td>m</td>\n",
              "      <td>8/01/1974</td>\n",
              "      <td>rentas masivas</td>\n",
              "      <td>si</td>\n",
              "      <td>si</td>\n",
              "      <td>no</td>\n",
              "    </tr>\n",
              "    <tr>\n",
              "      <th>4</th>\n",
              "      <td>1</td>\n",
              "      <td>1/04/2020</td>\n",
              "      <td>OFICINAS</td>\n",
              "      <td>1</td>\n",
              "      <td>5</td>\n",
              "      <td>m</td>\n",
              "      <td>8/01/1974</td>\n",
              "      <td>rentas masivas</td>\n",
              "      <td>si</td>\n",
              "      <td>si</td>\n",
              "      <td>no</td>\n",
              "    </tr>\n",
              "  </tbody>\n",
              "</table>\n",
              "</div>"
            ],
            "text/plain": [
              "   CODIGO_CLIENTE FECHA_CONTACTO     CANAL  ...  producto1  producto2 producto3\n",
              "0               1     19/10/2019  OFICINAS  ...         si         si        no\n",
              "1               1      3/06/2020  OFICINAS  ...         si         si        no\n",
              "2               1      2/04/2019  OFICINAS  ...         si         si        no\n",
              "3               1     24/04/2019  OFICINAS  ...         si         si        no\n",
              "4               1      1/04/2020  OFICINAS  ...         si         si        no\n",
              "\n",
              "[5 rows x 11 columns]"
            ]
          },
          "metadata": {
            "tags": []
          },
          "execution_count": 4
        }
      ]
    },
    {
      "cell_type": "code",
      "metadata": {
        "id": "42zQpn-Fs0t1",
        "outputId": "9dffee31-f204-4a11-892c-4b5ed1092639",
        "colab": {
          "base_uri": "https://localhost:8080/"
        }
      },
      "source": [
        "!git init"
      ],
      "execution_count": 5,
      "outputs": [
        {
          "output_type": "stream",
          "text": [
            "Initialized empty Git repository in /content/.git/\n"
          ],
          "name": "stdout"
        }
      ]
    },
    {
      "cell_type": "code",
      "metadata": {
        "id": "MjmJl3AsvmXZ",
        "outputId": "613c2537-482f-415c-850f-cb0f7f2f5ac1",
        "colab": {
          "base_uri": "https://localhost:8080/",
          "height": 741
        }
      },
      "source": [
        "#BD sin eliminar datos atipicos\n",
        "\n",
        "import matplotlib\n",
        "from matplotlib import pyplot\n",
        "\n",
        "matplotlib.rcParams.update({'font.size': 18, 'font.family': 'STIXGeneral', 'mathtext.fontset': 'stix'})\n",
        "\n",
        "fig = pyplot.figure(figsize=(15,15))\n",
        "ax = fig.add_subplot(4, 2, 1)\n",
        "pyplot.hist(datos['sexo'], alpha=0.7) \n",
        "pyplot.title('Sexo')\n",
        "\n",
        "ax = fig.add_subplot(4, 2, 2)\n",
        "pyplot.hist(datos[\"CANAL\"], alpha=0.7) \n",
        "pyplot.title('Canal')\n",
        "pyplot.xticks(rotation=90)\n",
        "\n",
        "pyplot.show()\n",
        "\n",
        "fig = pyplot.figure(figsize=(15,15))\n",
        "ax = fig.add_subplot(4, 2, 1)\n",
        "pyplot.hist(datos[\"segmento\"], alpha=0.7) \n",
        "pyplot.title('Segmento')\n",
        "pyplot.xticks(rotation=90)\n",
        "\n",
        "ax = fig.add_subplot(4, 2, 2)\n",
        "pyplot.hist(datos[\"COD_SERVICIO\"], alpha=0.7) \n",
        "pyplot.title('Transaccion')\n",
        "\n",
        "\n",
        "pyplot.show()\n"
      ],
      "execution_count": 27,
      "outputs": [
        {
          "output_type": "display_data",
          "data": {
            "image/png": "[encoded data removed]",
            "text/plain": [
              "<Figure size 1080x1080 with 2 Axes>"
            ]
          },
          "metadata": {
            "tags": [],
            "needs_background": "light"
          }
        },
        {
          "output_type": "display_data",
          "data": {
            "image/png": "[encoded data removed]",
            "text/plain": [
              "<Figure size 1080x1080 with 2 Axes>"
            ]
          },
          "metadata": {
            "tags": [],
            "needs_background": "light"
          }
        }
      ]
    }
  ]
}