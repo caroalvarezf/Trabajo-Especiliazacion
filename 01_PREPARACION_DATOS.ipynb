{
  "nbformat": 4,
  "nbformat_minor": 0,
  "metadata": {
    "colab": {
      "name": "01-PREPARACION_DATOS.ipynb",
      "provenance": [],
      "collapsed_sections": [],
      "include_colab_link": true
    },
    "kernelspec": {
      "name": "python3",
      "display_name": "Python 3"
    }
  },
  "cells": [
    {
      "cell_type": "markdown",
      "metadata": {
        "id": "view-in-github",
        "colab_type": "text"
      },
      "source": [
        "<a href=\"https://colab.research.google.com/github/caroalvarezf/Trabajo-Especiliazacion/blob/master/01_PREPARACION_DATOS.ipynb\" target=\"_parent\"><img src=\"https://colab.research.google.com/assets/colab-badge.svg\" alt=\"Open In Colab\"/></a>"
      ]
    },
    {
      "cell_type": "code",
      "metadata": {
        "id": "eY7tjv6BYXLP",
        "outputId": "f8de4696-3b9e-4ce9-92ab-2c8b7ea66a1d",
        "colab": {
          "base_uri": "https://localhost:8080/"
        }
      },
      "source": [
        "!wget --no-cache -O init.py -q https://raw.githubusercontent.com/caroalvarezf/Trabajo-Especiliazacion/master/init.py\n",
        "import init; init.init(force_download=False) "
      ],
      "execution_count": 1,
      "outputs": [
        {
          "output_type": "stream",
          "text": [
            "replicating local resources\n"
          ],
          "name": "stdout"
        }
      ]
    },
    {
      "cell_type": "code",
      "metadata": {
        "id": "tqx5bZ3dcn7O"
      },
      "source": [
        "import pandas as pd\n",
        "datos=pd.read_csv(\"local/DATA_DEMO.csv\", sep=\";\")"
      ],
      "execution_count": 2,
      "outputs": []
    },
    {
      "cell_type": "code",
      "metadata": {
        "id": "Jhl_6Sj8sj0t",
        "outputId": "ef7163fc-03d7-499f-f452-eae05542983b",
        "colab": {
          "base_uri": "https://localhost:8080/",
          "height": 191
        }
      },
      "source": [
        "datos.head()"
      ],
      "execution_count": 3,
      "outputs": [
        {
          "output_type": "execute_result",
          "data": {
            "text/html": [
              "<div>\n",
              "<style scoped>\n",
              "    .dataframe tbody tr th:only-of-type {\n",
              "        vertical-align: middle;\n",
              "    }\n",
              "\n",
              "    .dataframe tbody tr th {\n",
              "        vertical-align: top;\n",
              "    }\n",
              "\n",
              "    .dataframe thead th {\n",
              "        text-align: right;\n",
              "    }\n",
              "</style>\n",
              "<table border=\"1\" class=\"dataframe\">\n",
              "  <thead>\n",
              "    <tr style=\"text-align: right;\">\n",
              "      <th></th>\n",
              "      <th>CODIGO_CLIENTE</th>\n",
              "      <th>FECHA_CONTACTO</th>\n",
              "      <th>CANAL</th>\n",
              "      <th>COD_CANAL</th>\n",
              "      <th>COD_SERVICIO</th>\n",
              "      <th>sexo</th>\n",
              "      <th>Fecha de nacimiento</th>\n",
              "      <th>segmento</th>\n",
              "      <th>producto1</th>\n",
              "      <th>producto2</th>\n",
              "      <th>producto3</th>\n",
              "    </tr>\n",
              "  </thead>\n",
              "  <tbody>\n",
              "    <tr>\n",
              "      <th>0</th>\n",
              "      <td>1</td>\n",
              "      <td>19/10/2019</td>\n",
              "      <td>OFICINAS</td>\n",
              "      <td>1</td>\n",
              "      <td>5</td>\n",
              "      <td>m</td>\n",
              "      <td>8/01/1974</td>\n",
              "      <td>rentas masivas</td>\n",
              "      <td>si</td>\n",
              "      <td>si</td>\n",
              "      <td>no</td>\n",
              "    </tr>\n",
              "    <tr>\n",
              "      <th>1</th>\n",
              "      <td>1</td>\n",
              "      <td>3/06/2020</td>\n",
              "      <td>OFICINAS</td>\n",
              "      <td>1</td>\n",
              "      <td>5</td>\n",
              "      <td>m</td>\n",
              "      <td>8/01/1974</td>\n",
              "      <td>rentas masivas</td>\n",
              "      <td>si</td>\n",
              "      <td>si</td>\n",
              "      <td>no</td>\n",
              "    </tr>\n",
              "    <tr>\n",
              "      <th>2</th>\n",
              "      <td>1</td>\n",
              "      <td>2/04/2019</td>\n",
              "      <td>OFICINAS</td>\n",
              "      <td>1</td>\n",
              "      <td>5</td>\n",
              "      <td>m</td>\n",
              "      <td>8/01/1974</td>\n",
              "      <td>rentas masivas</td>\n",
              "      <td>si</td>\n",
              "      <td>si</td>\n",
              "      <td>no</td>\n",
              "    </tr>\n",
              "    <tr>\n",
              "      <th>3</th>\n",
              "      <td>1</td>\n",
              "      <td>24/04/2019</td>\n",
              "      <td>OFICINAS</td>\n",
              "      <td>1</td>\n",
              "      <td>5</td>\n",
              "      <td>m</td>\n",
              "      <td>8/01/1974</td>\n",
              "      <td>rentas masivas</td>\n",
              "      <td>si</td>\n",
              "      <td>si</td>\n",
              "      <td>no</td>\n",
              "    </tr>\n",
              "    <tr>\n",
              "      <th>4</th>\n",
              "      <td>1</td>\n",
              "      <td>1/04/2020</td>\n",
              "      <td>OFICINAS</td>\n",
              "      <td>1</td>\n",
              "      <td>5</td>\n",
              "      <td>m</td>\n",
              "      <td>8/01/1974</td>\n",
              "      <td>rentas masivas</td>\n",
              "      <td>si</td>\n",
              "      <td>si</td>\n",
              "      <td>no</td>\n",
              "    </tr>\n",
              "  </tbody>\n",
              "</table>\n",
              "</div>"
            ],
            "text/plain": [
              "   CODIGO_CLIENTE FECHA_CONTACTO     CANAL  ...  producto1  producto2 producto3\n",
              "0               1     19/10/2019  OFICINAS  ...         si         si        no\n",
              "1               1      3/06/2020  OFICINAS  ...         si         si        no\n",
              "2               1      2/04/2019  OFICINAS  ...         si         si        no\n",
              "3               1     24/04/2019  OFICINAS  ...         si         si        no\n",
              "4               1      1/04/2020  OFICINAS  ...         si         si        no\n",
              "\n",
              "[5 rows x 11 columns]"
            ]
          },
          "metadata": {
            "tags": []
          },
          "execution_count": 3
        }
      ]
    },
    {
      "cell_type": "code",
      "metadata": {
        "id": "42zQpn-Fs0t1",
        "outputId": "8ca52b1c-4d35-4acf-9f77-00dba7b44aa0",
        "colab": {
          "base_uri": "https://localhost:8080/"
        }
      },
      "source": [
        "!git init"
      ],
      "execution_count": null,
      "outputs": [
        {
          "output_type": "stream",
          "text": [
            "Initialized empty Git repository in /content/.git/\n"
          ],
          "name": "stdout"
        }
      ]
    },
    {
      "cell_type": "code",
      "metadata": {
        "id": "_0ek5k4ju14h"
      },
      "source": [
        ""
      ],
      "execution_count": null,
      "outputs": []
    }
  ]
}