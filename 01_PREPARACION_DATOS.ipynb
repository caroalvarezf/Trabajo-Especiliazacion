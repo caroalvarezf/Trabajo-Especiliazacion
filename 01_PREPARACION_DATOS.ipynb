{
  "nbformat": 4,
  "nbformat_minor": 0,
  "metadata": {
    "colab": {
      "name": "01-PREPARACION_DATOS.ipynb",
      "provenance": [],
      "collapsed_sections": [],
      "toc_visible": true,
      "include_colab_link": true
    },
    "kernelspec": {
      "name": "python3",
      "display_name": "Python 3"
    }
  },
  "cells": [
    {
      "cell_type": "markdown",
      "metadata": {
        "id": "view-in-github",
        "colab_type": "text"
      },
      "source": [
        "<a href=\"https://colab.research.google.com/github/caroalvarezf/Trabajo-Especiliazacion/blob/master/01_PREPARACION_DATOS.ipynb\" target=\"_parent\"><img src=\"https://colab.research.google.com/assets/colab-badge.svg\" alt=\"Open In Colab\"/></a>"
      ]
    },
    {
      "cell_type": "code",
      "metadata": {
        "id": "eY7tjv6BYXLP"
      },
      "source": [
        "!wget --no-cache -O init.py -q https://raw.githubusercontent.com/caroalvarezf/Trabajo-Especiliazacion/master/init.py\n",
        "import init; init.init(force_download=False) "
      ],
      "execution_count": 196,
      "outputs": []
    },
    {
      "cell_type": "code",
      "metadata": {
        "id": "hAb6RHu0O4pm"
      },
      "source": [
        "#Instalación\n",
        "!apt-get install openjdk-11-jdk-headless -qq > /dev/null\n",
        "!wget -q http://apache.osuosl.org/spark/spark-3.0.1/spark-3.0.1-bin-hadoop3.2.tgz \n",
        "!tar xf spark-3.0.1-bin-hadoop3.2.tgz \n",
        "!pip install -q findspark\n",
        "\n",
        "#Variables de Entorno\n",
        "import os\n",
        "os.environ[\"JAVA_HOME\"] = \"/usr/lib/jvm/java-11-openjdk-amd64\"\n",
        "os.environ[\"SPARK_HOME\"] = \"/content/spark-3.0.1-bin-hadoop3.2\"\n",
        "\n",
        "#SparkContext\n",
        "import findspark\n",
        "findspark.init()\n",
        "from pyspark.sql import SparkSession\n",
        "from pyspark import SparkContext\n",
        "spark = SparkSession.builder.master(\"local[*]\").getOrCreate()\n",
        "sc = SparkContext.getOrCreate()\n",
        "\n",
        "#SQL Context\n",
        "from pyspark.sql import SQLContext\n",
        "from pyspark.sql import functions\n",
        "from pyspark.sql.types import *\n",
        "sqlCtx = SQLContext(sc)"
      ],
      "execution_count": 197,
      "outputs": []
    },
    {
      "cell_type": "code",
      "metadata": {
        "id": "tqx5bZ3dcn7O",
        "outputId": "5c9dfc36-e98b-4910-ce7c-a625b7822b85",
        "colab": {
          "base_uri": "https://localhost:8080/"
        }
      },
      "source": [
        "import pandas as pd\n",
        "datos1=pd.read_csv(\"local/DATA_DEMO.csv\", sep=\";\")\n",
        "datos2=sqlCtx.createDataFrame(datos1)\n",
        "type(datos2)"
      ],
      "execution_count": 328,
      "outputs": [
        {
          "output_type": "execute_result",
          "data": {
            "text/plain": [
              "pyspark.sql.dataframe.DataFrame"
            ]
          },
          "metadata": {
            "tags": []
          },
          "execution_count": 328
        }
      ]
    },
    {
      "cell_type": "code",
      "metadata": {
        "id": "Jhl_6Sj8sj0t",
        "outputId": "3251279c-bf30-4569-dde0-f905ecf9e1ba",
        "colab": {
          "base_uri": "https://localhost:8080/"
        }
      },
      "source": [
        "datos2.show(5)"
      ],
      "execution_count": 329,
      "outputs": [
        {
          "output_type": "stream",
          "text": [
            "+--------------+--------------+--------+---------+------------+----+-------------------+--------------+---------+---------+---------+\n",
            "|CODIGO_CLIENTE|FECHA_CONTACTO|   CANAL|COD_CANAL|COD_SERVICIO|sexo|Fecha de nacimiento|      segmento|producto1|producto2|producto3|\n",
            "+--------------+--------------+--------+---------+------------+----+-------------------+--------------+---------+---------+---------+\n",
            "|             1|    19/10/2019|OFICINAS|        1|           5|   m|          8/01/1974|rentas masivas|       si|       si|       no|\n",
            "|             1|     3/06/2020|OFICINAS|        1|           5|   m|          8/01/1974|rentas masivas|       si|       si|       no|\n",
            "|             1|     2/04/2019|OFICINAS|        1|           5|   m|          8/01/1974|rentas masivas|       si|       si|       no|\n",
            "|             1|    24/04/2019|OFICINAS|        1|           5|   m|          8/01/1974|rentas masivas|       si|       si|       no|\n",
            "|             1|     1/04/2020|OFICINAS|        1|           5|   m|          8/01/1974|rentas masivas|       si|       si|       no|\n",
            "+--------------+--------------+--------+---------+------------+----+-------------------+--------------+---------+---------+---------+\n",
            "only showing top 5 rows\n",
            "\n"
          ],
          "name": "stdout"
        }
      ]
    },
    {
      "cell_type": "code",
      "metadata": {
        "id": "42zQpn-Fs0t1",
        "outputId": "614e640e-bfa9-470f-a734-da60d67d0015",
        "colab": {
          "base_uri": "https://localhost:8080/"
        }
      },
      "source": [
        "!git init"
      ],
      "execution_count": 330,
      "outputs": [
        {
          "output_type": "stream",
          "text": [
            "Reinitialized existing Git repository in /content/.git/\n"
          ],
          "name": "stdout"
        }
      ]
    },
    {
      "cell_type": "code",
      "metadata": {
        "id": "Djmc6llMBXzh",
        "outputId": "0f6aa063-07b4-4d35-9477-602e7d7f84b4",
        "colab": {
          "base_uri": "https://localhost:8080/"
        }
      },
      "source": [
        "#Calculo de la edad\n",
        "from datetime import datetime\n",
        "\n",
        "datosRDD = datos2.rdd\n",
        "fecha_n = datosRDD.map(lambda x: datetime.strptime(x['Fecha de nacimiento'], '%d/%m/%Y'))\n",
        "\n",
        "hoy = datetime.now()\n",
        "edad = fecha_n.map(lambda x: hoy.year - x.year if hoy.month < x.month else hoy.year -x.year - 1)\n",
        "edad = edad.toDF('INT')\n",
        "edad.show(3)"
      ],
      "execution_count": 331,
      "outputs": [
        {
          "output_type": "stream",
          "text": [
            "+-----+\n",
            "|value|\n",
            "+-----+\n",
            "|   45|\n",
            "|   45|\n",
            "|   45|\n",
            "+-----+\n",
            "only showing top 3 rows\n",
            "\n"
          ],
          "name": "stdout"
        }
      ]
    },
    {
      "cell_type": "code",
      "metadata": {
        "id": "m83uIESlKbbv"
      },
      "source": [
        "datos3 = datos2.join(edad)"
      ],
      "execution_count": 332,
      "outputs": []
    },
    {
      "cell_type": "code",
      "metadata": {
        "id": "GJ1boey3B2Rl",
        "outputId": "07c89b32-a46b-4636-a0c4-2e2847d9e23d",
        "colab": {
          "base_uri": "https://localhost:8080/"
        }
      },
      "source": [
        "datos3 = datos3.select(datos3.CODIGO_CLIENTE, datos3.FECHA_CONTACTO, datos3.CANAL, datos3.COD_CANAL, datos3.COD_SERVICIO,\n",
        "                       datos3.sexo, datos3.segmento, datos3.producto1, datos3.producto2, datos3.producto3, datos3.value.alias(\"Edad\"))\n",
        "datos3.show()"
      ],
      "execution_count": 333,
      "outputs": [
        {
          "output_type": "stream",
          "text": [
            "+--------------+--------------+--------+---------+------------+----+--------------+---------+---------+---------+----+\n",
            "|CODIGO_CLIENTE|FECHA_CONTACTO|   CANAL|COD_CANAL|COD_SERVICIO|sexo|      segmento|producto1|producto2|producto3|Edad|\n",
            "+--------------+--------------+--------+---------+------------+----+--------------+---------+---------+---------+----+\n",
            "|             1|    19/10/2019|OFICINAS|        1|           5|   m|rentas masivas|       si|       si|       no|  45|\n",
            "|             1|    19/10/2019|OFICINAS|        1|           5|   m|rentas masivas|       si|       si|       no|  45|\n",
            "|             1|    19/10/2019|OFICINAS|        1|           5|   m|rentas masivas|       si|       si|       no|  45|\n",
            "|             1|    19/10/2019|OFICINAS|        1|           5|   m|rentas masivas|       si|       si|       no|  45|\n",
            "|             1|    19/10/2019|OFICINAS|        1|           5|   m|rentas masivas|       si|       si|       no|  45|\n",
            "|             1|    19/10/2019|OFICINAS|        1|           5|   m|rentas masivas|       si|       si|       no|  45|\n",
            "|             1|    19/10/2019|OFICINAS|        1|           5|   m|rentas masivas|       si|       si|       no|  45|\n",
            "|             1|    19/10/2019|OFICINAS|        1|           5|   m|rentas masivas|       si|       si|       no|  45|\n",
            "|             1|    19/10/2019|OFICINAS|        1|           5|   m|rentas masivas|       si|       si|       no|  45|\n",
            "|             1|    19/10/2019|OFICINAS|        1|           5|   m|rentas masivas|       si|       si|       no|  45|\n",
            "|             1|    19/10/2019|OFICINAS|        1|           5|   m|rentas masivas|       si|       si|       no|  45|\n",
            "|             1|    19/10/2019|OFICINAS|        1|           5|   m|rentas masivas|       si|       si|       no|  45|\n",
            "|             1|    19/10/2019|OFICINAS|        1|           5|   m|rentas masivas|       si|       si|       no|  45|\n",
            "|             1|    19/10/2019|OFICINAS|        1|           5|   m|rentas masivas|       si|       si|       no|  45|\n",
            "|             1|    19/10/2019|OFICINAS|        1|           5|   m|rentas masivas|       si|       si|       no|  45|\n",
            "|             1|    19/10/2019|OFICINAS|        1|           5|   m|rentas masivas|       si|       si|       no|  45|\n",
            "|             1|    19/10/2019|OFICINAS|        1|           5|   m|rentas masivas|       si|       si|       no|  45|\n",
            "|             1|    19/10/2019|OFICINAS|        1|           5|   m|rentas masivas|       si|       si|       no|  45|\n",
            "|             1|    19/10/2019|OFICINAS|        1|           5|   m|rentas masivas|       si|       si|       no|  45|\n",
            "|             1|    19/10/2019|OFICINAS|        1|           5|   m|rentas masivas|       si|       si|       no|  45|\n",
            "+--------------+--------------+--------+---------+------------+----+--------------+---------+---------+---------+----+\n",
            "only showing top 20 rows\n",
            "\n"
          ],
          "name": "stdout"
        }
      ]
    },
    {
      "cell_type": "markdown",
      "metadata": {
        "id": "fEZujjJAL0PN"
      },
      "source": [
        "# ***ANALISIS VARIABLES CATEGORICAS***"
      ]
    },
    {
      "cell_type": "code",
      "metadata": {
        "id": "MjmJl3AsvmXZ",
        "outputId": "633b3f7c-d876-4544-c139-d7b5a98ae6ed",
        "colab": {
          "base_uri": "https://localhost:8080/",
          "height": 742
        }
      },
      "source": [
        "#BD sin eliminar datos atipicos\n",
        "\n",
        "import matplotlib\n",
        "from matplotlib import pyplot\n",
        "\n",
        "matplotlib.rcParams.update({'font.size': 18, 'font.family': 'STIXGeneral', 'mathtext.fontset': 'stix'})\n",
        "\n",
        "fig = pyplot.figure(figsize=(15,15))\n",
        "ax = fig.add_subplot(4, 2, 1)\n",
        "pyplot.hist(datos1['sexo'], alpha=0.7) \n",
        "pyplot.title('Sexo')\n",
        "\n",
        "ax = fig.add_subplot(4, 2, 2)\n",
        "pyplot.hist(datos[\"CANAL\"], alpha=0.7) \n",
        "pyplot.title('Canal')\n",
        "pyplot.xticks(rotation=90)\n",
        "\n",
        "pyplot.show()\n",
        "\n",
        "fig = pyplot.figure(figsize=(15,15))\n",
        "ax = fig.add_subplot(4, 2, 1)\n",
        "pyplot.hist(datos[\"segmento\"], alpha=0.7) \n",
        "pyplot.title('Segmento')\n",
        "pyplot.xticks(rotation=90)\n",
        "\n",
        "ax = fig.add_subplot(4, 2, 2)\n",
        "pyplot.hist(datos[\"COD_SERVICIO\"], alpha=0.7) \n",
        "pyplot.title('Codigo del servicio')\n",
        "\n",
        "\n",
        "pyplot.show()\n"
      ],
      "execution_count": 201,
      "outputs": [
        {
          "output_type": "display_data",
          "data": {
            "image/png": "[encoded data removed]",
            "text/plain": [
              "<Figure size 1080x1080 with 2 Axes>"
            ]
          },
          "metadata": {
            "tags": [],
            "needs_background": "light"
          }
        },
        {
          "output_type": "display_data",
          "data": {
            "image/png": "[encoded data removed]",
            "text/plain": [
              "<Figure size 1080x1080 with 2 Axes>"
            ]
          },
          "metadata": {
            "tags": [],
            "needs_background": "light"
          }
        }
      ]
    },
    {
      "cell_type": "code",
      "metadata": {
        "id": "uidGk19bMliA",
        "outputId": "70bab2ed-8dbb-4c69-eb85-ccb3a96bffd5",
        "colab": {
          "base_uri": "https://localhost:8080/"
        }
      },
      "source": [
        "import numpy as np\n",
        "\n",
        "a = datos1['CANAL'].value_counts(normalize = False)\n",
        "m = datos1.shape[0]\n",
        "print(\"Muestras por cada categoría para la vairble Canal = \\n\")\n",
        "print(a)\n",
        "print(\"Número de datos =\",m)\n",
        "media_nominal = a/m\n",
        "varianza_nominal = media_nominal*(1 - media_nominal)\n",
        "desd_nominal = np.sqrt(varianza_nominal)\n",
        "print(\"\\n\")\n",
        "print(\"Media nominal = \\n\",media_nominal)\n",
        "print(\"\\n\")\n",
        "print(\"Varianza nominal = \\n\",varianza_nominal)\n",
        "print(\"\\n\")\n",
        "print(\"Desviación nominal = \\n\",desd_nominal)"
      ],
      "execution_count": null,
      "outputs": [
        {
          "output_type": "stream",
          "text": [
            "Muestras por cada categoría para la vairble Canal = \n",
            "\n",
            "OFICINAS             10061\n",
            "KIOSKOS               5855\n",
            "INTERNET              4226\n",
            "IVR                   3114\n",
            "LINEA DE SERVICIO     2048\n",
            "OFICINA VIRTUAL       1343\n",
            "APP                    772\n",
            "Name: CANAL, dtype: int64\n",
            "Número de datos = 27419\n",
            "\n",
            "\n",
            "Media nominal = \n",
            " OFICINAS             0.366935\n",
            "KIOSKOS              0.213538\n",
            "INTERNET             0.154127\n",
            "IVR                  0.113571\n",
            "LINEA DE SERVICIO    0.074693\n",
            "OFICINA VIRTUAL      0.048981\n",
            "APP                  0.028156\n",
            "Name: CANAL, dtype: float64\n",
            "\n",
            "\n",
            "Varianza nominal = \n",
            " OFICINAS             0.232294\n",
            "KIOSKOS              0.167940\n",
            "INTERNET             0.130372\n",
            "IVR                  0.100673\n",
            "LINEA DE SERVICIO    0.069114\n",
            "OFICINA VIRTUAL      0.046582\n",
            "APP                  0.027363\n",
            "Name: CANAL, dtype: float64\n",
            "\n",
            "\n",
            "Desviación nominal = \n",
            " OFICINAS             0.481969\n",
            "KIOSKOS              0.409804\n",
            "INTERNET             0.361070\n",
            "IVR                  0.317289\n",
            "LINEA DE SERVICIO    0.262895\n",
            "OFICINA VIRTUAL      0.215828\n",
            "APP                  0.165417\n",
            "Name: CANAL, dtype: float64\n"
          ],
          "name": "stdout"
        }
      ]
    },
    {
      "cell_type": "code",
      "metadata": {
        "id": "7fsFdzlDPNY2",
        "outputId": "e0790f61-4115-420f-e6f8-4d7999831457",
        "colab": {
          "base_uri": "https://localhost:8080/"
        }
      },
      "source": [
        "import numpy as np\n",
        "\n",
        "a = datos1['sexo'].value_counts(normalize = False)\n",
        "m = datos1.shape[0]\n",
        "print(\"Muestras por cada categoría para la vairble sexo = \\n\")\n",
        "print(a)\n",
        "print(\"Número de datos =\",m)\n",
        "media_nominal = a/m\n",
        "varianza_nominal = media_nominal*(1 - media_nominal)\n",
        "desd_nominal = np.sqrt(varianza_nominal)\n",
        "print(\"\\n\")\n",
        "print(\"Media nominal = \\n\",media_nominal)\n",
        "print(\"\\n\")\n",
        "print(\"Varianza nominal = \\n\",varianza_nominal)\n",
        "print(\"\\n\")\n",
        "print(\"Desviación nominal = \\n\",desd_nominal)"
      ],
      "execution_count": null,
      "outputs": [
        {
          "output_type": "stream",
          "text": [
            "Muestras por cada categoría para la vairble sexo = \n",
            "\n",
            "m    14106\n",
            "f    13313\n",
            "Name: sexo, dtype: int64\n",
            "Número de datos = 27419\n",
            "\n",
            "\n",
            "Media nominal = \n",
            " m    0.514461\n",
            "f    0.485539\n",
            "Name: sexo, dtype: float64\n",
            "\n",
            "\n",
            "Varianza nominal = \n",
            " m    0.249791\n",
            "f    0.249791\n",
            "Name: sexo, dtype: float64\n",
            "\n",
            "\n",
            "Desviación nominal = \n",
            " m    0.499791\n",
            "f    0.499791\n",
            "Name: sexo, dtype: float64\n"
          ],
          "name": "stdout"
        }
      ]
    },
    {
      "cell_type": "code",
      "metadata": {
        "id": "Wq6TQj7YPchg",
        "outputId": "9dfb1bd3-dc23-4557-893e-1ec3a4bcba84",
        "colab": {
          "base_uri": "https://localhost:8080/"
        }
      },
      "source": [
        "import numpy as np\n",
        "\n",
        "a = datos1['segmento'].value_counts(normalize = False)\n",
        "m = datos1.shape[0]\n",
        "print(\"Muestras por cada categoría para la vairble Canal = \\n\")\n",
        "print(a)\n",
        "print(\"Número de datos =\",m)\n",
        "media_nominal = a/m\n",
        "varianza_nominal = media_nominal*(1 - media_nominal)\n",
        "desd_nominal = np.sqrt(varianza_nominal)\n",
        "print(\"\\n\")\n",
        "print(\"Media nominal = \\n\",media_nominal)\n",
        "print(\"\\n\")\n",
        "print(\"Varianza nominal = \\n\",varianza_nominal)\n",
        "print(\"\\n\")\n",
        "print(\"Desviación nominal = \\n\",desd_nominal)"
      ],
      "execution_count": null,
      "outputs": [
        {
          "output_type": "stream",
          "text": [
            "Muestras por cada categoría para la vairble Canal = \n",
            "\n",
            "Prime              8955\n",
            "rentas masivas     7404\n",
            "Alto Patrimonio    6466\n",
            "rentas medias      4594\n",
            "Name: segmento, dtype: int64\n",
            "Número de datos = 27419\n",
            "\n",
            "\n",
            "Media nominal = \n",
            " Prime              0.326598\n",
            "rentas masivas     0.270032\n",
            "Alto Patrimonio    0.235822\n",
            "rentas medias      0.167548\n",
            "Name: segmento, dtype: float64\n",
            "\n",
            "\n",
            "Varianza nominal = \n",
            " Prime              0.219932\n",
            "rentas masivas     0.197115\n",
            "Alto Patrimonio    0.180210\n",
            "rentas medias      0.139476\n",
            "Name: segmento, dtype: float64\n",
            "\n",
            "\n",
            "Desviación nominal = \n",
            " Prime              0.468969\n",
            "rentas masivas     0.443976\n",
            "Alto Patrimonio    0.424511\n",
            "rentas medias      0.373464\n",
            "Name: segmento, dtype: float64\n"
          ],
          "name": "stdout"
        }
      ]
    }
  ]
}