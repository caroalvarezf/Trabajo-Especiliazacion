{
  "nbformat": 4,
  "nbformat_minor": 0,
  "metadata": {
    "colab": {
      "name": "01-PREPARACION_DATOS-06Nov.ipynb",
      "provenance": [],
      "collapsed_sections": [],
      "include_colab_link": true
    },
    "kernelspec": {
      "name": "python3",
      "display_name": "Python 3"
    }
  },
  "cells": [
    {
      "cell_type": "markdown",
      "metadata": {
        "id": "view-in-github",
        "colab_type": "text"
      },
      "source": [
        "<a href=\"https://colab.research.google.com/github/caroalvarezf/Trabajo-Especiliazacion/blob/master/01_PREPARACION_DATOS_06Nov.ipynb\" target=\"_parent\"><img src=\"https://colab.research.google.com/assets/colab-badge.svg\" alt=\"Open In Colab\"/></a>"
      ]
    },
    {
      "cell_type": "code",
      "metadata": {
        "id": "eY7tjv6BYXLP"
      },
      "source": [
        "!wget --no-cache -O init.py -q https://raw.githubusercontent.com/caroalvarezf/Trabajo-Especiliazacion/master/init.py\n",
        "import init; init.init(force_download=False) "
      ],
      "execution_count": 16,
      "outputs": []
    },
    {
      "cell_type": "code",
      "metadata": {
        "id": "hAb6RHu0O4pm"
      },
      "source": [
        "#Instalación\n",
        "!apt-get install openjdk-11-jdk-headless -qq > /dev/null\n",
        "!wget -q http://apache.osuosl.org/spark/spark-3.0.1/spark-3.0.1-bin-hadoop3.2.tgz \n",
        "!tar xf spark-3.0.1-bin-hadoop3.2.tgz \n",
        "!pip install -q findspark\n",
        "\n",
        "#Variables de Entorno\n",
        "import os\n",
        "os.environ[\"JAVA_HOME\"] = \"/usr/lib/jvm/java-11-openjdk-amd64\"\n",
        "os.environ[\"SPARK_HOME\"] = \"/content/spark-3.0.1-bin-hadoop3.2\"\n",
        "\n",
        "#SparkContext\n",
        "import findspark\n",
        "findspark.init()\n",
        "from pyspark.sql import SparkSession\n",
        "from pyspark import SparkContext\n",
        "spark = SparkSession.builder.master(\"local[*]\").getOrCreate()\n",
        "sc = SparkContext.getOrCreate()\n",
        "\n",
        "#SQL Context\n",
        "from pyspark.sql import SQLContext\n",
        "from pyspark.sql import functions\n",
        "from pyspark.sql.types import *\n",
        "sqlCtx = SQLContext(sc)"
      ],
      "execution_count": 17,
      "outputs": []
    },
    {
      "cell_type": "code",
      "metadata": {
        "id": "tqx5bZ3dcn7O",
        "outputId": "9b023772-814f-4ab6-ebe1-53d4ab31959d",
        "colab": {
          "base_uri": "https://localhost:8080/"
        }
      },
      "source": [
        "import pandas as pd\n",
        "datos1=pd.read_csv(\"local/DATA_DEMO.csv\", sep=\";\")\n",
        "datos2=sqlCtx.createDataFrame(datos1)\n",
        "type(datos2)"
      ],
      "execution_count": 18,
      "outputs": [
        {
          "output_type": "execute_result",
          "data": {
            "text/plain": [
              "pyspark.sql.dataframe.DataFrame"
            ]
          },
          "metadata": {
            "tags": []
          },
          "execution_count": 18
        }
      ]
    },
    {
      "cell_type": "code",
      "metadata": {
        "id": "Jhl_6Sj8sj0t",
        "outputId": "f6ad4087-9602-4dbe-e0ab-d9a6e364abb5",
        "colab": {
          "base_uri": "https://localhost:8080/"
        }
      },
      "source": [
        "datos2.show(5)"
      ],
      "execution_count": 19,
      "outputs": [
        {
          "output_type": "stream",
          "text": [
            "+--------------+--------------+--------+---------+------------+----+-------------------+--------------+---------+---------+---------+\n",
            "|CODIGO_CLIENTE|FECHA_CONTACTO|   CANAL|COD_CANAL|COD_SERVICIO|sexo|Fecha de nacimiento|      segmento|producto1|producto2|producto3|\n",
            "+--------------+--------------+--------+---------+------------+----+-------------------+--------------+---------+---------+---------+\n",
            "|             1|    19/10/2019|OFICINAS|        1|           5|   m|          8/01/1974|rentas masivas|       si|       si|       no|\n",
            "|             1|     3/06/2020|OFICINAS|        1|           5|   m|          8/01/1974|rentas masivas|       si|       si|       no|\n",
            "|             1|     2/04/2019|OFICINAS|        1|           5|   m|          8/01/1974|rentas masivas|       si|       si|       no|\n",
            "|             1|    24/04/2019|OFICINAS|        1|           5|   m|          8/01/1974|rentas masivas|       si|       si|       no|\n",
            "|             1|     1/04/2020|OFICINAS|        1|           5|   m|          8/01/1974|rentas masivas|       si|       si|       no|\n",
            "+--------------+--------------+--------+---------+------------+----+-------------------+--------------+---------+---------+---------+\n",
            "only showing top 5 rows\n",
            "\n"
          ],
          "name": "stdout"
        }
      ]
    },
    {
      "cell_type": "code",
      "metadata": {
        "id": "42zQpn-Fs0t1",
        "outputId": "83bfc69e-9600-40de-fb10-37be57da9a39",
        "colab": {
          "base_uri": "https://localhost:8080/"
        }
      },
      "source": [
        "!git init"
      ],
      "execution_count": 5,
      "outputs": [
        {
          "output_type": "stream",
          "text": [
            "Initialized empty Git repository in /content/.git/\n"
          ],
          "name": "stdout"
        }
      ]
    },
    {
      "cell_type": "markdown",
      "metadata": {
        "id": "f0DL8JcSLW6p"
      },
      "source": [
        "# ***1. Identificación de variables***"
      ]
    },
    {
      "cell_type": "code",
      "metadata": {
        "id": "qxymFnS0xzt6",
        "outputId": "d7dfe64c-4617-4923-e269-eeb020a5e2ab",
        "colab": {
          "base_uri": "https://localhost:8080/"
        }
      },
      "source": [
        "datos2.printSchema()"
      ],
      "execution_count": 20,
      "outputs": [
        {
          "output_type": "stream",
          "text": [
            "root\n",
            " |-- CODIGO_CLIENTE: long (nullable = true)\n",
            " |-- FECHA_CONTACTO: string (nullable = true)\n",
            " |-- CANAL: string (nullable = true)\n",
            " |-- COD_CANAL: long (nullable = true)\n",
            " |-- COD_SERVICIO: long (nullable = true)\n",
            " |-- sexo: string (nullable = true)\n",
            " |-- Fecha de nacimiento: string (nullable = true)\n",
            " |-- segmento: string (nullable = true)\n",
            " |-- producto1: string (nullable = true)\n",
            " |-- producto2: string (nullable = true)\n",
            " |-- producto3: string (nullable = true)\n",
            "\n"
          ],
          "name": "stdout"
        }
      ]
    },
    {
      "cell_type": "markdown",
      "metadata": {
        "id": "zlk-AoeoLbYi"
      },
      "source": [
        "# ***2. Tratamiento de duplicados***"
      ]
    },
    {
      "cell_type": "markdown",
      "metadata": {
        "id": "i6rponclLirc"
      },
      "source": [
        "# ***3. Análisis univariable***"
      ]
    },
    {
      "cell_type": "code",
      "metadata": {
        "id": "Djmc6llMBXzh",
        "outputId": "14b526ea-2db5-456a-8742-7b0100118e02",
        "colab": {
          "base_uri": "https://localhost:8080/"
        }
      },
      "source": [
        "#Calculo de la edad\n",
        "from datetime import datetime\n",
        "\n",
        "datosRDD = datos2.rdd\n",
        "fecha_n = datosRDD.map(lambda x: datetime.strptime(x['Fecha de nacimiento'], '%d/%m/%Y'))\n",
        "\n",
        "hoy = datetime.now()\n",
        "edad = fecha_n.map(lambda x: hoy.year - x.year if hoy.month < x.month else hoy.year -x.year - 1)\n",
        "edad = edad.toDF('INT')\n",
        "edad.show(3)"
      ],
      "execution_count": 21,
      "outputs": [
        {
          "output_type": "stream",
          "text": [
            "+-----+\n",
            "|value|\n",
            "+-----+\n",
            "|   45|\n",
            "|   45|\n",
            "|   45|\n",
            "+-----+\n",
            "only showing top 3 rows\n",
            "\n"
          ],
          "name": "stdout"
        }
      ]
    },
    {
      "cell_type": "code",
      "metadata": {
        "id": "m83uIESlKbbv"
      },
      "source": [
        "datos3 = datos2.join(edad)"
      ],
      "execution_count": 22,
      "outputs": []
    },
    {
      "cell_type": "code",
      "metadata": {
        "id": "GJ1boey3B2Rl",
        "outputId": "6ce8f943-e25a-4513-90e3-96779b5cd1f9",
        "colab": {
          "base_uri": "https://localhost:8080/"
        }
      },
      "source": [
        "datos3 = datos3.select(datos3.CODIGO_CLIENTE, datos3.FECHA_CONTACTO, datos3.CANAL, datos3.COD_CANAL, datos3.COD_SERVICIO,\n",
        "                       datos3.sexo, datos3.segmento, datos3.producto1, datos3.producto2, datos3.producto3, datos3.value.alias(\"Edad\"))\n",
        "datos3.show()"
      ],
      "execution_count": 23,
      "outputs": [
        {
          "output_type": "stream",
          "text": [
            "+--------------+--------------+--------+---------+------------+----+--------------+---------+---------+---------+----+\n",
            "|CODIGO_CLIENTE|FECHA_CONTACTO|   CANAL|COD_CANAL|COD_SERVICIO|sexo|      segmento|producto1|producto2|producto3|Edad|\n",
            "+--------------+--------------+--------+---------+------------+----+--------------+---------+---------+---------+----+\n",
            "|             1|    19/10/2019|OFICINAS|        1|           5|   m|rentas masivas|       si|       si|       no|  45|\n",
            "|             1|    19/10/2019|OFICINAS|        1|           5|   m|rentas masivas|       si|       si|       no|  45|\n",
            "|             1|    19/10/2019|OFICINAS|        1|           5|   m|rentas masivas|       si|       si|       no|  45|\n",
            "|             1|    19/10/2019|OFICINAS|        1|           5|   m|rentas masivas|       si|       si|       no|  45|\n",
            "|             1|    19/10/2019|OFICINAS|        1|           5|   m|rentas masivas|       si|       si|       no|  45|\n",
            "|             1|    19/10/2019|OFICINAS|        1|           5|   m|rentas masivas|       si|       si|       no|  45|\n",
            "|             1|    19/10/2019|OFICINAS|        1|           5|   m|rentas masivas|       si|       si|       no|  45|\n",
            "|             1|    19/10/2019|OFICINAS|        1|           5|   m|rentas masivas|       si|       si|       no|  45|\n",
            "|             1|    19/10/2019|OFICINAS|        1|           5|   m|rentas masivas|       si|       si|       no|  45|\n",
            "|             1|    19/10/2019|OFICINAS|        1|           5|   m|rentas masivas|       si|       si|       no|  45|\n",
            "|             1|    19/10/2019|OFICINAS|        1|           5|   m|rentas masivas|       si|       si|       no|  45|\n",
            "|             1|    19/10/2019|OFICINAS|        1|           5|   m|rentas masivas|       si|       si|       no|  45|\n",
            "|             1|    19/10/2019|OFICINAS|        1|           5|   m|rentas masivas|       si|       si|       no|  45|\n",
            "|             1|    19/10/2019|OFICINAS|        1|           5|   m|rentas masivas|       si|       si|       no|  45|\n",
            "|             1|    19/10/2019|OFICINAS|        1|           5|   m|rentas masivas|       si|       si|       no|  45|\n",
            "|             1|    19/10/2019|OFICINAS|        1|           5|   m|rentas masivas|       si|       si|       no|  45|\n",
            "|             1|    19/10/2019|OFICINAS|        1|           5|   m|rentas masivas|       si|       si|       no|  45|\n",
            "|             1|    19/10/2019|OFICINAS|        1|           5|   m|rentas masivas|       si|       si|       no|  45|\n",
            "|             1|    19/10/2019|OFICINAS|        1|           5|   m|rentas masivas|       si|       si|       no|  45|\n",
            "|             1|    19/10/2019|OFICINAS|        1|           5|   m|rentas masivas|       si|       si|       no|  45|\n",
            "+--------------+--------------+--------+---------+------------+----+--------------+---------+---------+---------+----+\n",
            "only showing top 20 rows\n",
            "\n"
          ],
          "name": "stdout"
        }
      ]
    },
    {
      "cell_type": "code",
      "metadata": {
        "id": "MjmJl3AsvmXZ",
        "outputId": "2c4d8a3d-2ebc-4369-e408-6e63d35d7599",
        "colab": {
          "base_uri": "https://localhost:8080/",
          "height": 1000
        }
      },
      "source": [
        "#BD sin eliminar datos atipicos\n",
        "\n",
        "import matplotlib\n",
        "from matplotlib import pyplot\n",
        "\n",
        "matplotlib.rcParams.update({'font.size': 18, 'font.family': 'STIXGeneral', 'mathtext.fontset': 'stix'})\n",
        "\n",
        "fig = pyplot.figure(figsize=(15,15))\n",
        "ax = fig.add_subplot(4, 2, 1)\n",
        "pyplot.hist(datos1['sexo'], alpha=0.7) \n",
        "pyplot.title('Sexo')\n",
        "\n",
        "ax = fig.add_subplot(4, 2, 2)\n",
        "pyplot.hist(datos1[\"CANAL\"], alpha=0.7) \n",
        "pyplot.title('Canal')\n",
        "pyplot.xticks(rotation=90)\n",
        "\n",
        "pyplot.show()\n",
        "\n",
        "fig = pyplot.figure(figsize=(15,15))\n",
        "ax = fig.add_subplot(4, 2, 1)\n",
        "pyplot.hist(datos1[\"segmento\"], alpha=0.7) \n",
        "pyplot.title('Segmento')\n",
        "pyplot.xticks(rotation=90)\n",
        "\n",
        "ax = fig.add_subplot(4, 2, 2)\n",
        "pyplot.hist(datos1[\"COD_SERVICIO\"], alpha=0.7) \n",
        "pyplot.title('Codigo del servicio')\n",
        "\n",
        "\n",
        "pyplot.show()\n",
        "\n",
        "fig = pyplot.figure(figsize=(15,15))\n",
        "ax = fig.add_subplot(4, 2, 1)\n",
        "pyplot.hist(datos1[\"producto1\"], alpha=0.7) \n",
        "pyplot.title('Producto 1')\n",
        "pyplot.xticks(rotation=90)\n",
        "\n",
        "ax = fig.add_subplot(4, 2, 2)\n",
        "pyplot.hist(datos1[\"producto2\"], alpha=0.7) \n",
        "pyplot.title('Producto 2')\n",
        "\n",
        "\n",
        "pyplot.show()\n",
        "\n",
        "fig = pyplot.figure(figsize=(15,15))\n",
        "ax = fig.add_subplot(4, 2, 1)\n",
        "pyplot.hist(datos1[\"producto3\"], alpha=0.7) \n",
        "pyplot.title('Producto 3')\n",
        "pyplot.xticks(rotation=90)\n",
        "\n",
        "\n",
        "pyplot.show()\n"
      ],
      "execution_count": 10,
      "outputs": [
        {
          "output_type": "display_data",
          "data": {
            "image/png": "[encoded data removed]",
            "text/plain": [
              "<Figure size 1080x1080 with 2 Axes>"
            ]
          },
          "metadata": {
            "tags": [],
            "needs_background": "light"
          }
        },
        {
          "output_type": "display_data",
          "data": {
            "image/png": "[encoded data removed]",
            "text/plain": [
              "<Figure size 1080x1080 with 2 Axes>"
            ]
          },
          "metadata": {
            "tags": [],
            "needs_background": "light"
          }
        },
        {
          "output_type": "display_data",
          "data": {
            "image/png": "[encoded data removed]",
            "text/plain": [
              "<Figure size 1080x1080 with 2 Axes>"
            ]
          },
          "metadata": {
            "tags": [],
            "needs_background": "light"
          }
        },
        {
          "output_type": "display_data",
          "data": {
            "image/png": "[encoded data removed]",
            "text/plain": [
              "<Figure size 1080x1080 with 1 Axes>"
            ]
          },
          "metadata": {
            "tags": [],
            "needs_background": "light"
          }
        }
      ]
    },
    {
      "cell_type": "code",
      "metadata": {
        "id": "uidGk19bMliA",
        "outputId": "5cef00d6-9bb3-45a2-cc48-874f5803ee97",
        "colab": {
          "base_uri": "https://localhost:8080/"
        }
      },
      "source": [
        "import numpy as np\n",
        "\n",
        "a = datos1['CANAL'].value_counts(normalize = False)\n",
        "m = datos1.shape[0]\n",
        "print(\"Muestras por cada categoría para la vairble Canal = \\n\")\n",
        "print(a)\n",
        "print(\"Número de datos =\",m)\n",
        "media_nominal = a/m\n",
        "varianza_nominal = media_nominal*(1 - media_nominal)\n",
        "desd_nominal = np.sqrt(varianza_nominal)\n",
        "print(\"\\n\")\n",
        "print(\"Media nominal = \\n\",media_nominal)\n",
        "print(\"\\n\")\n",
        "print(\"Varianza nominal = \\n\",varianza_nominal)\n",
        "print(\"\\n\")\n",
        "print(\"Desviación nominal = \\n\",desd_nominal)"
      ],
      "execution_count": 11,
      "outputs": [
        {
          "output_type": "stream",
          "text": [
            "Muestras por cada categoría para la vairble Canal = \n",
            "\n",
            "OFICINAS             10061\n",
            "KIOSKOS               5855\n",
            "INTERNET              4226\n",
            "IVR                   3114\n",
            "LINEA DE SERVICIO     2048\n",
            "OFICINA VIRTUAL       1343\n",
            "APP                    772\n",
            "Name: CANAL, dtype: int64\n",
            "Número de datos = 27419\n",
            "\n",
            "\n",
            "Media nominal = \n",
            " OFICINAS             0.366935\n",
            "KIOSKOS              0.213538\n",
            "INTERNET             0.154127\n",
            "IVR                  0.113571\n",
            "LINEA DE SERVICIO    0.074693\n",
            "OFICINA VIRTUAL      0.048981\n",
            "APP                  0.028156\n",
            "Name: CANAL, dtype: float64\n",
            "\n",
            "\n",
            "Varianza nominal = \n",
            " OFICINAS             0.232294\n",
            "KIOSKOS              0.167940\n",
            "INTERNET             0.130372\n",
            "IVR                  0.100673\n",
            "LINEA DE SERVICIO    0.069114\n",
            "OFICINA VIRTUAL      0.046582\n",
            "APP                  0.027363\n",
            "Name: CANAL, dtype: float64\n",
            "\n",
            "\n",
            "Desviación nominal = \n",
            " OFICINAS             0.481969\n",
            "KIOSKOS              0.409804\n",
            "INTERNET             0.361070\n",
            "IVR                  0.317289\n",
            "LINEA DE SERVICIO    0.262895\n",
            "OFICINA VIRTUAL      0.215828\n",
            "APP                  0.165417\n",
            "Name: CANAL, dtype: float64\n"
          ],
          "name": "stdout"
        }
      ]
    },
    {
      "cell_type": "code",
      "metadata": {
        "id": "7fsFdzlDPNY2",
        "outputId": "71f51f3b-3b02-4720-aadd-b644f74febb3",
        "colab": {
          "base_uri": "https://localhost:8080/"
        }
      },
      "source": [
        "import numpy as np\n",
        "\n",
        "a = datos1['sexo'].value_counts(normalize = False)\n",
        "m = datos1.shape[0]\n",
        "print(\"Muestras por cada categoría para la vairble sexo = \\n\")\n",
        "print(a)\n",
        "print(\"Número de datos =\",m)\n",
        "media_nominal = a/m\n",
        "varianza_nominal = media_nominal*(1 - media_nominal)\n",
        "desd_nominal = np.sqrt(varianza_nominal)\n",
        "print(\"\\n\")\n",
        "print(\"Media nominal = \\n\",media_nominal)\n",
        "print(\"\\n\")\n",
        "print(\"Varianza nominal = \\n\",varianza_nominal)\n",
        "print(\"\\n\")\n",
        "print(\"Desviación nominal = \\n\",desd_nominal)"
      ],
      "execution_count": 12,
      "outputs": [
        {
          "output_type": "stream",
          "text": [
            "Muestras por cada categoría para la vairble sexo = \n",
            "\n",
            "m    14106\n",
            "f    13313\n",
            "Name: sexo, dtype: int64\n",
            "Número de datos = 27419\n",
            "\n",
            "\n",
            "Media nominal = \n",
            " m    0.514461\n",
            "f    0.485539\n",
            "Name: sexo, dtype: float64\n",
            "\n",
            "\n",
            "Varianza nominal = \n",
            " m    0.249791\n",
            "f    0.249791\n",
            "Name: sexo, dtype: float64\n",
            "\n",
            "\n",
            "Desviación nominal = \n",
            " m    0.499791\n",
            "f    0.499791\n",
            "Name: sexo, dtype: float64\n"
          ],
          "name": "stdout"
        }
      ]
    },
    {
      "cell_type": "code",
      "metadata": {
        "id": "Wq6TQj7YPchg",
        "outputId": "5e4552ba-46fc-4aba-f938-dc672a0d1d7e",
        "colab": {
          "base_uri": "https://localhost:8080/"
        }
      },
      "source": [
        "import numpy as np\n",
        "\n",
        "a = datos1['segmento'].value_counts(normalize = False)\n",
        "m = datos1.shape[0]\n",
        "print(\"Muestras por cada categoría para la vairble Canal = \\n\")\n",
        "print(a)\n",
        "print(\"Número de datos =\",m)\n",
        "media_nominal = a/m\n",
        "varianza_nominal = media_nominal*(1 - media_nominal)\n",
        "desd_nominal = np.sqrt(varianza_nominal)\n",
        "print(\"\\n\")\n",
        "print(\"Media nominal = \\n\",media_nominal)\n",
        "print(\"\\n\")\n",
        "print(\"Varianza nominal = \\n\",varianza_nominal)\n",
        "print(\"\\n\")\n",
        "print(\"Desviación nominal = \\n\",desd_nominal)"
      ],
      "execution_count": 13,
      "outputs": [
        {
          "output_type": "stream",
          "text": [
            "Muestras por cada categoría para la vairble Canal = \n",
            "\n",
            "Prime              8955\n",
            "rentas masivas     7404\n",
            "Alto Patrimonio    6466\n",
            "rentas medias      4594\n",
            "Name: segmento, dtype: int64\n",
            "Número de datos = 27419\n",
            "\n",
            "\n",
            "Media nominal = \n",
            " Prime              0.326598\n",
            "rentas masivas     0.270032\n",
            "Alto Patrimonio    0.235822\n",
            "rentas medias      0.167548\n",
            "Name: segmento, dtype: float64\n",
            "\n",
            "\n",
            "Varianza nominal = \n",
            " Prime              0.219932\n",
            "rentas masivas     0.197115\n",
            "Alto Patrimonio    0.180210\n",
            "rentas medias      0.139476\n",
            "Name: segmento, dtype: float64\n",
            "\n",
            "\n",
            "Desviación nominal = \n",
            " Prime              0.468969\n",
            "rentas masivas     0.443976\n",
            "Alto Patrimonio    0.424511\n",
            "rentas medias      0.373464\n",
            "Name: segmento, dtype: float64\n"
          ],
          "name": "stdout"
        }
      ]
    },
    {
      "cell_type": "code",
      "metadata": {
        "id": "JT9lizesEBwI",
        "outputId": "3b7c0f53-4bba-42d1-9f11-236843d712cf",
        "colab": {
          "base_uri": "https://localhost:8080/"
        }
      },
      "source": [
        "#Convertir variables categóricas a numéricas para identificar correlaciones\n",
        "datosNUM=datos3\n",
        "from pyspark.sql.types import *\n",
        "datosNUM=datosNUM.\\\n",
        "   withColumn('RENTAS MASIVAS',(datosNUM.segmento=='rentas masivas').cast(IntegerType())).\\\n",
        "   withColumn('RENTAS MEDIAS',(datosNUM.segmento=='rentas medias').cast(IntegerType())).\\\n",
        "   withColumn('PRIME',(datosNUM.segmento=='Prime').cast(IntegerType())).\\\n",
        "   withColumn('ALTO PATRIMONIO',(datosNUM.segmento=='Alto Patrimonio').cast(IntegerType())).\\\n",
        "   withColumn('ALTO VALOR',(datosNUM.segmento=='Alto Valor').cast(IntegerType())).\\\n",
        "   withColumn('SEXOInt',(datosNUM.sexo=='f').cast(IntegerType())).\\\n",
        "   withColumn('P1',(datosNUM.producto1=='si').cast(IntegerType())).\\\n",
        "   withColumn('P2',(datosNUM.producto2=='si').cast(IntegerType())).\\\n",
        "   withColumn('P3',(datosNUM.producto3=='si').cast(IntegerType()))\n",
        "\n",
        "datosNUM=datosNUM.drop('CANAL','sexo', 'segmento', 'producto1', 'producto2', 'producto3', 'FECHA_CONTACTO', 'Fecha de nacimiento')\n",
        "datosNUM.show(5)"
      ],
      "execution_count": 39,
      "outputs": [
        {
          "output_type": "stream",
          "text": [
            "+--------------+---------+------------+----+--------------+-------------+-----+---------------+----------+-------+---+---+---+\n",
            "|CODIGO_CLIENTE|COD_CANAL|COD_SERVICIO|Edad|RENTAS MASIVAS|RENTAS MEDIAS|PRIME|ALTO PATRIMONIO|ALTO VALOR|SEXOInt| P1| P2| P3|\n",
            "+--------------+---------+------------+----+--------------+-------------+-----+---------------+----------+-------+---+---+---+\n",
            "|             1|        1|           5|  45|             1|            0|    0|              0|         0|      0|  1|  1|  0|\n",
            "|             1|        1|           5|  45|             1|            0|    0|              0|         0|      0|  1|  1|  0|\n",
            "|             1|        1|           5|  45|             1|            0|    0|              0|         0|      0|  1|  1|  0|\n",
            "|             1|        1|           5|  45|             1|            0|    0|              0|         0|      0|  1|  1|  0|\n",
            "|             1|        1|           5|  45|             1|            0|    0|              0|         0|      0|  1|  1|  0|\n",
            "+--------------+---------+------------+----+--------------+-------------+-----+---------------+----------+-------+---+---+---+\n",
            "only showing top 5 rows\n",
            "\n"
          ],
          "name": "stdout"
        }
      ]
    },
    {
      "cell_type": "code",
      "metadata": {
        "id": "b_yyN9LrEIXD",
        "outputId": "c3f0cc27-2965-4eb8-8550-1ad5674ecb6d",
        "colab": {
          "base_uri": "https://localhost:8080/"
        }
      },
      "source": [
        "#La varibale objetivo es el canal, que esta codificado en la columna COD_CANAL\n",
        "import six\n",
        "print(\"Correlación con la variable objetivo\")\n",
        "for i in datosNUM.columns:\n",
        "    if not( isinstance(datosNUM.select(i).take(1)[0][0], six.string_types)):\n",
        "        print( \"\", i, datosNUM.stat.corr('COD_CANAL',i))"
      ],
      "execution_count": 40,
      "outputs": [
        {
          "output_type": "stream",
          "text": [
            "Correlación con la variable objetivo\n",
            " CODIGO_CLIENTE -0.10939376945942662\n",
            " COD_CANAL 1.0\n",
            " COD_SERVICIO -0.3469343155931337\n",
            " Edad -1.3930757746949613e-14\n",
            " RENTAS MASIVAS 0.027357459910523005\n",
            " RENTAS MEDIAS -0.07389203076614874\n",
            " PRIME 0.02945695532289857\n",
            " ALTO PATRIMONIO 0.0038528940561916303\n",
            " ALTO VALOR nan\n",
            " SEXOInt -0.02917527647250633\n",
            " P1 0.03864550275060398\n",
            " P2 0.020265735877491378\n",
            " P3 -0.03641509675165462\n"
          ],
          "name": "stdout"
        }
      ]
    },
    {
      "cell_type": "markdown",
      "metadata": {
        "id": "i3HsN1B4EMV0"
      },
      "source": [
        "Las variables que tendran impacto en la predicción de la variable objetivo son aquellas que tienen una correlación alta. La correlación deseada es >0.3, por lo tanto se pueden descartar las variables:"
      ]
    },
    {
      "cell_type": "code",
      "metadata": {
        "id": "FAMvVXvEEPfc",
        "outputId": "aa8610bf-240c-4b37-f46a-34826953cc54",
        "colab": {
          "base_uri": "https://localhost:8080/"
        }
      },
      "source": [
        "from pyspark.ml.feature import VectorAssembler\n",
        "\n",
        "vectorAssembler = VectorAssembler(inputCols = \\\n",
        "    ['CODIGO_CLIENTE', 'COD_SERVICIO','Edad', 'RENTAS MASIVAS', 'RENTAS MEDIAS', 'PRIME', 'ALTO PATRIMONIO', \n",
        "     'ALTO VALOR', 'SEXOInt', 'P1', 'P2', 'P3'], outputCol = 'features')\n",
        "vdatos = vectorAssembler.transform(datosNUM)\n",
        "vdatos = vdatos.select(['features', 'COD_CANAL'])\n",
        "vdatos.show(3)"
      ],
      "execution_count": 44,
      "outputs": [
        {
          "output_type": "stream",
          "text": [
            "+--------------------+---------+\n",
            "|            features|COD_CANAL|\n",
            "+--------------------+---------+\n",
            "|(12,[0,1,2,3,9,10...|        1|\n",
            "|(12,[0,1,2,3,9,10...|        1|\n",
            "|(12,[0,1,2,3,9,10...|        1|\n",
            "+--------------------+---------+\n",
            "only showing top 3 rows\n",
            "\n"
          ],
          "name": "stdout"
        }
      ]
    },
    {
      "cell_type": "code",
      "metadata": {
        "id": "yR1Zk5I8Eb6k",
        "outputId": "40eccc0c-9cdf-4cc4-9568-74bb11a5281c",
        "colab": {
          "base_uri": "https://localhost:8080/"
        }
      },
      "source": [
        "from pyspark.ml.stat import Correlation\n",
        "matrix = Correlation.corr(vdatos,\"features\")\n",
        "matrix.collect()[0][\"pearson({})\".format(\"features\")].values"
      ],
      "execution_count": 47,
      "outputs": [
        {
          "output_type": "execute_result",
          "data": {
            "text/plain": [
              "array([ 1.00000000e+00, -1.62725449e-02,  1.24440829e-12, -7.79498092e-02,\n",
              "        7.26557047e-02,  4.07487121e-02, -2.74112021e-02,             nan,\n",
              "        3.43578803e-01, -1.56325435e-01, -1.47502839e-01,  2.43398009e-02,\n",
              "       -1.62725449e-02,  1.00000000e+00,  1.39701056e-12, -1.17517275e-02,\n",
              "        5.56021934e-03,  5.99651394e-03,  7.74444865e-04,             nan,\n",
              "       -1.65569579e-02, -2.00939892e-02, -9.31232790e-03,  2.65071274e-02,\n",
              "        1.24440829e-12,  1.39701056e-12,  1.00000000e+00,  3.46240264e-13,\n",
              "        2.55325403e-13,  3.96610767e-13,  3.16331147e-13,             nan,\n",
              "        5.52924919e-13,  6.12261750e-13,  5.86901295e-13,  6.82393367e-13,\n",
              "       -7.79498092e-02, -1.17517275e-02,  3.46240264e-13,  1.00000000e+00,\n",
              "       -2.72863541e-01, -4.23570111e-01, -3.37870404e-01,             nan,\n",
              "       -1.18822423e-01,  1.33503531e-01, -6.22803661e-02, -2.77997783e-01,\n",
              "        7.26557047e-02,  5.56021934e-03,  2.55325403e-13, -2.72863541e-01,\n",
              "        1.00000000e+00, -3.12435232e-01, -2.49221121e-01,             nan,\n",
              "        1.32561575e-01,  1.38327704e-01, -1.40358665e-01,  6.48951520e-02,\n",
              "        4.07487121e-02,  5.99651394e-03,  3.96610767e-13, -4.23570111e-01,\n",
              "       -3.12435232e-01,  1.00000000e+00, -3.86869634e-01,             nan,\n",
              "        2.34025276e-01, -1.37705344e-02, -2.56255839e-03, -1.41770980e-01,\n",
              "       -2.74112021e-02,  7.74444865e-04,  3.16331147e-13, -3.37870404e-01,\n",
              "       -2.49221121e-01, -3.86869634e-01,  1.00000000e+00,             nan,\n",
              "       -2.50884508e-01, -2.46106184e-01,  1.91447666e-01,  3.90270962e-01,\n",
              "                   nan,             nan,             nan,             nan,\n",
              "                   nan,             nan,             nan,  1.00000000e+00,\n",
              "                   nan,             nan,             nan,             nan,\n",
              "        3.43578803e-01, -1.65569579e-02,  5.52924919e-13, -1.18822423e-01,\n",
              "        1.32561575e-01,  2.34025276e-01, -2.50884508e-01,             nan,\n",
              "        1.00000000e+00,  3.75138236e-01, -2.08816515e-01, -1.65068058e-01,\n",
              "       -1.56325435e-01, -2.00939892e-02,  6.12261750e-13,  1.33503531e-01,\n",
              "        1.38327704e-01, -1.37705344e-02, -2.46106184e-01,             nan,\n",
              "        3.75138236e-01,  1.00000000e+00,  2.75366923e-03, -3.96993791e-01,\n",
              "       -1.47502839e-01, -9.31232790e-03,  5.86901295e-13, -6.22803661e-02,\n",
              "       -1.40358665e-01, -2.56255839e-03,  1.91447666e-01,             nan,\n",
              "       -2.08816515e-01,  2.75366923e-03,  1.00000000e+00, -5.81826470e-02,\n",
              "        2.43398009e-02,  2.65071274e-02,  6.82393367e-13, -2.77997783e-01,\n",
              "        6.48951520e-02, -1.41770980e-01,  3.90270962e-01,             nan,\n",
              "       -1.65068058e-01, -3.96993791e-01, -5.81826470e-02,  1.00000000e+00])"
            ]
          },
          "metadata": {
            "tags": []
          },
          "execution_count": 47
        }
      ]
    },
    {
      "cell_type": "markdown",
      "metadata": {
        "id": "SqmrXlYVEfoz"
      },
      "source": [
        "Nos interesan las correlaciones inferiores a 0.7 ya que una correlación mayor puede indicar que las varibales nos estan proporcionando información muy parecida"
      ]
    },
    {
      "cell_type": "markdown",
      "metadata": {
        "id": "Fp47GZQfEiQj"
      },
      "source": [
        "# 4. Tratamiento de outliers y datos nulos"
      ]
    },
    {
      "cell_type": "markdown",
      "metadata": {
        "id": "Sd4YlI1-Epuj"
      },
      "source": [
        "eliminar registros, eliminar variables, imputar, predecir"
      ]
    },
    {
      "cell_type": "markdown",
      "metadata": {
        "id": "eZB_Aj82Erye"
      },
      "source": [
        "# 5. Creación del modelo"
      ]
    },
    {
      "cell_type": "code",
      "metadata": {
        "id": "cRLUEo2NEeY7"
      },
      "source": [
        "(trainingData, testData) = vdatos.randomSplit([0.7, 0.3])\n",
        "print(trainingData.count())\n",
        "print(testData.count())"
      ],
      "execution_count": null,
      "outputs": []
    }
  ]
}